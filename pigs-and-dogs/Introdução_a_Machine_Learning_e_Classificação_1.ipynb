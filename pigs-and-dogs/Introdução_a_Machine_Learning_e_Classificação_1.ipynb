{
  "nbformat": 4,
  "nbformat_minor": 0,
  "metadata": {
    "colab": {
      "name": "Introdução a Machine Learning e Classificação - 1.ipynb",
      "provenance": [],
      "authorship_tag": "ABX9TyNN4shj06f2EoG49XUYfqSe",
      "include_colab_link": true
    },
    "kernelspec": {
      "name": "python3",
      "display_name": "Python 3"
    }
  },
  "cells": [
    {
      "cell_type": "markdown",
      "metadata": {
        "id": "view-in-github",
        "colab_type": "text"
      },
      "source": [
        "<a href=\"https://colab.research.google.com/github/victormazevedo/machine-learning/blob/master/pigs-and-dogs/Introdu%C3%A7%C3%A3o_a_Machine_Learning_e_Classifica%C3%A7%C3%A3o_1.ipynb\" target=\"_parent\"><img src=\"https://colab.research.google.com/assets/colab-badge.svg\" alt=\"Open In Colab\"/></a>"
      ]
    },
    {
      "cell_type": "markdown",
      "metadata": {
        "id": "RBIgkzK7I8Ig",
        "colab_type": "text"
      },
      "source": [
        "# Pigs and Dogs\n",
        "\n",
        "O presente projeto, tem como finalidade estudar um pouco mais sobre machine-learning e suas aplicações.\n",
        "Sabemos que com o machine-learning podemos resolver problemas de classificação e também problemas de regressão.\n",
        "\n",
        "No projeto a seguir, dadas as condições dos nossos dados, quero utilizar um estimador para me dizer se se trata de um cachorro ou um porco. Parecido com o que ocorre quando somos crianças, em que você vê um porco, diz que é um auau, porém seus pais dizem que trata-se de um porco. Aquilo fica na sua cabeça. Outra vez você vê outro porco e seus pais dizem que é um porco. Vai chegar um momento em que inconscientemente, toda vez que você ver este animal, vai saber que trata-se de um porco.\n",
        "Utilizaremos a mesma aborgadem aqui com dados supervisionados, ou seja, eles já são previamente classificados utilizando 3 features (atributos):\n",
        "\n",
        "* pêlos longos;\n",
        "* pernas curtas;\n",
        "* faz auau?;\n",
        "\n",
        "Com estas 3 features, tentaremos treinar um algoritmo de _Machine Learning_ para ele classificar se, com os atributos que ele está recebendo, trata-se de um cachorro ou um porco.\n",
        "\n",
        "O exemplo é bem simples, mas ajuda a começar a formular algumas análises e estudos sobre _Machine Learning_ "
      ]
    },
    {
      "cell_type": "code",
      "metadata": {
        "id": "gb0ubiulMBEy",
        "colab_type": "code",
        "colab": {}
      },
      "source": [
        "# which are the pig's features that we'll be use to classify if a given animal is a pig or a dog?\n",
        "# pêlos longos?\n",
        "# pernas curtas?\n",
        "# faz auau?\n",
        "# 1 sim, 0 não\n",
        "\n",
        "porco1 = [0, 1, 0]\n",
        "porco2 = [0, 1, 1]\n",
        "porco3 = [1, 1, 0]\n",
        "\n",
        "cachorro1 = [0, 1, 1]\n",
        "cachorro2 = [1, 0, 1]\n",
        "cachorro3 = [1, 1, 1]\n",
        "\n",
        "#porco => 1 cachorro =>2\n",
        "dados = [porco1, porco2, porco3, cachorro1, cachorro2, cachorro3]\n",
        "classes = [1, 1, 1, 0, 0, 0]"
      ],
      "execution_count": 0,
      "outputs": []
    },
    {
      "cell_type": "markdown",
      "metadata": {
        "id": "nPjKLUjTLDWW",
        "colab_type": "text"
      },
      "source": [
        "Neste projeto usaremos uma biblioteca do Python chamada [Scikit Learn](https://scikit-learn.org/stable/). Esta biblioteca já conta com divesos algoritmos de Machine Learning que podemos usar em nosso projeto.\n",
        "\n",
        "Para o problema dos porcos e dos cachorros, usaremos o estimador [LinearSVC](https://scikit-learn.org/stable/modules/generated/sklearn.svm.LinearSVC.html#sklearn.svm.LinearSVC) SVC -> Support Vector Classification.\n",
        "\n",
        "**TODO**\n",
        "Explicar mais a fundo o que são Support Vector Machines e o que é o LinearSVC do Scikit Learn\n",
        "\n",
        "Para usar o LinearSVC não existe muito segredo. Precisamos importar ele do sklearn.\n",
        "Após isso, assim como nossos pais fizeram ao falar que determinado animal é um cachorro ou determinado animal é um porco, faremos isso também com a funçao _fit()_ que nada mais é moldar o algoritmo (podemos fazer uma analogia a moldar o cérebro da criança para começar a distinguir o que é um porco e o que é um cachorro). Ou seja, trata-se de um aprendizado supervisionado. Dentro da função _fit_, incluíremos - claro - os dados mas também incluíremos as classes."
      ]
    },
    {
      "cell_type": "code",
      "metadata": {
        "id": "FGYE4_XnMgcV",
        "colab_type": "code",
        "colab": {
          "base_uri": "https://localhost:8080/",
          "height": 94
        },
        "outputId": "6c83141c-b647-46dc-9bbf-6b056f9f56b8"
      },
      "source": [
        "from sklearn.svm import LinearSVC\n",
        "\n",
        "model = LinearSVC()\n",
        "model.fit(dados, classes)"
      ],
      "execution_count": 3,
      "outputs": [
        {
          "output_type": "execute_result",
          "data": {
            "text/plain": [
              "LinearSVC(C=1.0, class_weight=None, dual=True, fit_intercept=True,\n",
              "          intercept_scaling=1, loss='squared_hinge', max_iter=1000,\n",
              "          multi_class='ovr', penalty='l2', random_state=None, tol=0.0001,\n",
              "          verbose=0)"
            ]
          },
          "metadata": {
            "tags": []
          },
          "execution_count": 3
        }
      ]
    },
    {
      "cell_type": "code",
      "metadata": {
        "id": "wYPoDzwUOsrI",
        "colab_type": "code",
        "colab": {
          "base_uri": "https://localhost:8080/",
          "height": 36
        },
        "outputId": "adb47d7b-8ba0-4e96-e101-3a6ecb08b732"
      },
      "source": [
        "# testando to modelo\n",
        "animalMisterioso = [1, 1, 1]\n",
        "model.predict([animalMisterioso])"
      ],
      "execution_count": 4,
      "outputs": [
        {
          "output_type": "execute_result",
          "data": {
            "text/plain": [
              "array([0])"
            ]
          },
          "metadata": {
            "tags": []
          },
          "execution_count": 4
        }
      ]
    },
    {
      "cell_type": "code",
      "metadata": {
        "id": "M69grdSyPjCl",
        "colab_type": "code",
        "colab": {}
      },
      "source": [
        "misterio1 = [1, 1, 1] # cachorro 0\n",
        "misterio2 = [1, 1, 0] # porco 1\n",
        "misterio3 = [0, 1, 1] # porco 1\n",
        "\n",
        "testes = [misterio1, misterio2, misterio3]\n",
        "previsoes = model.predict(testes)\n",
        "# nesse caso percebemos que a taxa de acerto não está 100%, ou seja,\n",
        "# a cada 3 animais, 2 ele acerta."
      ],
      "execution_count": 0,
      "outputs": []
    },
    {
      "cell_type": "code",
      "metadata": {
        "id": "u8ORNBssP1KA",
        "colab_type": "code",
        "colab": {}
      },
      "source": [
        "testes_classes = [0, 1, 1]"
      ],
      "execution_count": 0,
      "outputs": []
    },
    {
      "cell_type": "code",
      "metadata": {
        "id": "lp4535zyQjgI",
        "colab_type": "code",
        "colab": {
          "base_uri": "https://localhost:8080/",
          "height": 36
        },
        "outputId": "484770ed-690c-4260-d085-17b29bfea5bb"
      },
      "source": [
        "corretos = (previsoes == testes_classes).sum()\n",
        "total = len(testes)\n",
        "taxa_de_acerto = corretos / total\n",
        "print(\"Taxa de acerto: \", taxa_de_acerto * 100)"
      ],
      "execution_count": 19,
      "outputs": [
        {
          "output_type": "stream",
          "text": [
            "Taxa de acerto:  66.66666666666666\n"
          ],
          "name": "stdout"
        }
      ]
    },
    {
      "cell_type": "code",
      "metadata": {
        "id": "JjSqEpWfQlC4",
        "colab_type": "code",
        "colab": {
          "base_uri": "https://localhost:8080/",
          "height": 36
        },
        "outputId": "d5f9c198-43cc-4c6c-a1f7-e8bb7834cdcf"
      },
      "source": [
        "from sklearn.metrics import accuracy_score\n",
        "accuracy_score(testes_classes, previsoes)"
      ],
      "execution_count": 22,
      "outputs": [
        {
          "output_type": "execute_result",
          "data": {
            "text/plain": [
              "0.6666666666666666"
            ]
          },
          "metadata": {
            "tags": []
          },
          "execution_count": 22
        }
      ]
    },
    {
      "cell_type": "code",
      "metadata": {
        "id": "JBrl_frvRwVd",
        "colab_type": "code",
        "colab": {}
      },
      "source": [
        ""
      ],
      "execution_count": 0,
      "outputs": []
    }
  ]
}