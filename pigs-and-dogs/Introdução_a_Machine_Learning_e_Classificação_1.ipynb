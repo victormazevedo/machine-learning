{
  "nbformat": 4,
  "nbformat_minor": 0,
  "metadata": {
    "colab": {
      "name": "Introdução a Machine Learning e Classificação - 1.ipynb",
      "provenance": [],
      "authorship_tag": "ABX9TyNSn/eG5G9aG1HaEEeN8i37",
      "include_colab_link": true
    },
    "kernelspec": {
      "name": "python3",
      "display_name": "Python 3"
    }
  },
  "cells": [
    {
      "cell_type": "markdown",
      "metadata": {
        "id": "view-in-github",
        "colab_type": "text"
      },
      "source": [
        "<a href=\"https://colab.research.google.com/github/victormazevedo/machine-learning/blob/master/pigs-and-dogs/Introdu%C3%A7%C3%A3o_a_Machine_Learning_e_Classifica%C3%A7%C3%A3o_1.ipynb\" target=\"_parent\"><img src=\"https://colab.research.google.com/assets/colab-badge.svg\" alt=\"Open In Colab\"/></a>"
      ]
    },
    {
      "cell_type": "code",
      "metadata": {
        "id": "gb0ubiulMBEy",
        "colab_type": "code",
        "colab": {}
      },
      "source": [
        "# quais são as features dos animais?"
      ],
      "execution_count": 0,
      "outputs": []
    }
  ]
}