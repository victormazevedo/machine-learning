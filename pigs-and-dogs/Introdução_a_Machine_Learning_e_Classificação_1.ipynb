{
  "nbformat": 4,
  "nbformat_minor": 0,
  "metadata": {
    "colab": {
      "name": "Introdução a Machine Learning e Classificação - 1.ipynb",
      "provenance": [],
      "authorship_tag": "ABX9TyOP4eU8RuHTnRJl0UB5DZ6O",
      "include_colab_link": true
    },
    "kernelspec": {
      "name": "python3",
      "display_name": "Python 3"
    }
  },
  "cells": [
    {
      "cell_type": "markdown",
      "metadata": {
        "id": "view-in-github",
        "colab_type": "text"
      },
      "source": [
        "<a href=\"https://colab.research.google.com/github/victormazevedo/machine-learning/blob/master/pigs-and-dogs/Introdu%C3%A7%C3%A3o_a_Machine_Learning_e_Classifica%C3%A7%C3%A3o_1.ipynb\" target=\"_parent\"><img src=\"https://colab.research.google.com/assets/colab-badge.svg\" alt=\"Open In Colab\"/></a>"
      ]
    },
    {
      "cell_type": "markdown",
      "metadata": {
        "id": "RBIgkzK7I8Ig",
        "colab_type": "text"
      },
      "source": [
        "# Pigs and Dogs\n",
        "\n",
        "O presente projeto, tem como finalidade estudar um pouco mais sobre machine-learning e suas aplicações.\n",
        "Sabemos que com o machine-learning podemos resolver problemas de classificação e também problemas de regressão.\n",
        "\n",
        "No projeto a seguir, dadas as condições dos nossos dados, quero utilizar um estimador para realizar o seguinte cenário: dadas algumas característiscas (features), o estimadordiga se se trata de um cachorro ou um porco. \n",
        "\n",
        "Quando somos crianças e vemos um porco pela primeira vez, não saberemos do que se trata. Se já soubermos o que é um cachorro, provavelmente falaremos que é um 'auau'. Neste momento, quem estiver do lado e souber que trata-se um pouco, vai falar pra criança diversas vezes que na realidade se trata de um porco. Desta forma, a criança vai associar o que está vendo, ou seja as características, e da próxima vez que ver, saberá que trata-se de um porco. \n",
        "\n",
        "Utilizaremos a mesma aborgadem aqui com dados supervisionados, ou seja, eles já são previamente classificados utilizando 3 features (atributos):\n",
        "\n",
        "* pêlos longos;\n",
        "* pernas curtas;\n",
        "* faz auau?;\n",
        "\n",
        "Com estas 3 features, tentaremos treinar um algoritmo de _Machine Learning_ para ele classificar se, com os atributos que está recebendo, trata-se de um cachorro ou um porco.\n",
        "\n",
        "O exemplo é bem simples, mas ajuda a começar a formular algumas análises e estudos sobre _Machine Learning_ "
      ]
    },
    {
      "cell_type": "code",
      "metadata": {
        "id": "gb0ubiulMBEy",
        "colab_type": "code",
        "colab": {}
      },
      "source": [
        "# which are the pig's features that we'll be use to classify if a given animal is a pig or a dog?\n",
        "# pêlos longos?\n",
        "# pernas curtas?\n",
        "# faz auau?\n",
        "# 1 sim, 0 não\n",
        "\n",
        "porco1 = [0, 1, 0]\n",
        "porco2 = [0, 1, 1]\n",
        "porco3 = [1, 1, 0]\n",
        "\n",
        "cachorro1 = [0, 1, 1]\n",
        "cachorro2 = [1, 0, 1]\n",
        "cachorro3 = [1, 1, 1]\n",
        "\n",
        "#porco => 1 cachorro =>2\n",
        "dados = [porco1, porco2, porco3, cachorro1, cachorro2, cachorro3]\n",
        "classes = [1, 1, 1, 0, 0, 0]"
      ],
      "execution_count": 0,
      "outputs": []
    },
    {
      "cell_type": "markdown",
      "metadata": {
        "id": "nPjKLUjTLDWW",
        "colab_type": "text"
      },
      "source": [
        "Neste projeto usaremos uma biblioteca do Python chamada [Scikit Learn](https://scikit-learn.org/stable/). Esta biblioteca já conta com divesos algoritmos de Machine Learning que podemos usar em nosso projeto.\n",
        "\n",
        "Para o problema dos porcos e dos cachorros, usaremos o estimador [LinearSVC](https://scikit-learn.org/stable/modules/generated/sklearn.svm.LinearSVC.html#sklearn.svm.LinearSVC) SVC -> Support Vector Classification.\n",
        "\n",
        "**TODO**\n",
        "Explicar mais a fundo o que são Support Vector Machines e o que é o LinearSVC do Scikit Learn\n",
        "\n",
        "Para usar o LinearSVC não existe muito segredo. Precisamos importar ele do sklearn.\n",
        "Após isso, assim como nossos pais fizeram ao falar que determinado animal é um cachorro ou determinado animal é um porco, faremos isso também com a funçao _fit()_ que nada mais é moldar o algoritmo (podemos fazer uma analogia a moldar o cérebro da criança para começar a distinguir o que é um porco e o que é um cachorro). Ou seja, trata-se de um aprendizado supervisionado. Dentro da função _fit_, incluíremos - claro - os dados mas também incluíremos as classes."
      ]
    },
    {
      "cell_type": "code",
      "metadata": {
        "id": "FGYE4_XnMgcV",
        "colab_type": "code",
        "outputId": "c492cc10-652e-44a4-cd23-b5b92f9235fc",
        "colab": {
          "base_uri": "https://localhost:8080/",
          "height": 86
        }
      },
      "source": [
        "from sklearn.svm import LinearSVC\n",
        "\n",
        "model = LinearSVC()\n",
        "model.fit(dados, classes)"
      ],
      "execution_count": 5,
      "outputs": [
        {
          "output_type": "execute_result",
          "data": {
            "text/plain": [
              "LinearSVC(C=1.0, class_weight=None, dual=True, fit_intercept=True,\n",
              "          intercept_scaling=1, loss='squared_hinge', max_iter=1000,\n",
              "          multi_class='ovr', penalty='l2', random_state=None, tol=0.0001,\n",
              "          verbose=0)"
            ]
          },
          "metadata": {
            "tags": []
          },
          "execution_count": 5
        }
      ]
    },
    {
      "cell_type": "markdown",
      "metadata": {
        "id": "KLaYPIcJzIZ8",
        "colab_type": "text"
      },
      "source": [
        "Após ter executado o _fit_, vamos testar se realmente o algortimo está sabendo nos dizer com propriedade de qual animal se trata.\n",
        "Neste caso, criei uma lista onde possui todas as características de um cachorro. \n",
        "Abaixo, eu chamo uma propriedade chamada _predict_ do model. Como pârametro, se passarmos direto o _animalMisterioso_ veremos que dará um erro. Isso porque o _predict_ aceita somente um array. Desta forma colocamos _animalMisterioso_ entre colchetes []."
      ]
    },
    {
      "cell_type": "code",
      "metadata": {
        "id": "wYPoDzwUOsrI",
        "colab_type": "code",
        "outputId": "09a47d4f-43b9-40dd-ffdb-2f714026cbf4",
        "colab": {
          "base_uri": "https://localhost:8080/",
          "height": 34
        }
      },
      "source": [
        "# testando to modelo\n",
        "animalMisterioso = [1, 1, 1] # cachorro\n",
        "model.predict([animalMisterioso])"
      ],
      "execution_count": 6,
      "outputs": [
        {
          "output_type": "execute_result",
          "data": {
            "text/plain": [
              "array([0])"
            ]
          },
          "metadata": {
            "tags": []
          },
          "execution_count": 6
        }
      ]
    },
    {
      "cell_type": "code",
      "metadata": {
        "id": "M69grdSyPjCl",
        "colab_type": "code",
        "colab": {}
      },
      "source": [
        "misterio1 = [1, 1, 1] # cachorro 0\n",
        "misterio2 = [1, 1, 0] # porco 1\n",
        "misterio3 = [0, 1, 1] # porco 1\n",
        "\n",
        "testes = [misterio1, misterio2, misterio3]\n",
        "previsoes = model.predict(testes)\n",
        "# nesse caso percebemos que a taxa de acerto não está 100%, ou seja,\n",
        "# a cada 3 animais, 2 ele acerta."
      ],
      "execution_count": 0,
      "outputs": []
    },
    {
      "cell_type": "code",
      "metadata": {
        "id": "u8ORNBssP1KA",
        "colab_type": "code",
        "colab": {}
      },
      "source": [
        "testes_classes = [0, 1, 1]"
      ],
      "execution_count": 0,
      "outputs": []
    },
    {
      "cell_type": "code",
      "metadata": {
        "id": "lp4535zyQjgI",
        "colab_type": "code",
        "outputId": "484770ed-690c-4260-d085-17b29bfea5bb",
        "colab": {
          "base_uri": "https://localhost:8080/",
          "height": 36
        }
      },
      "source": [
        "corretos = (previsoes == testes_classes).sum()\n",
        "total = len(testes)\n",
        "taxa_de_acerto = corretos / total\n",
        "print(\"Taxa de acerto: \", taxa_de_acerto * 100)"
      ],
      "execution_count": 0,
      "outputs": [
        {
          "output_type": "stream",
          "text": [
            "Taxa de acerto:  66.66666666666666\n"
          ],
          "name": "stdout"
        }
      ]
    },
    {
      "cell_type": "code",
      "metadata": {
        "id": "JjSqEpWfQlC4",
        "colab_type": "code",
        "outputId": "d5f9c198-43cc-4c6c-a1f7-e8bb7834cdcf",
        "colab": {
          "base_uri": "https://localhost:8080/",
          "height": 36
        }
      },
      "source": [
        "from sklearn.metrics import accuracy_score\n",
        "accuracy_score(testes_classes, previsoes)"
      ],
      "execution_count": 0,
      "outputs": [
        {
          "output_type": "execute_result",
          "data": {
            "text/plain": [
              "0.6666666666666666"
            ]
          },
          "metadata": {
            "tags": []
          },
          "execution_count": 22
        }
      ]
    },
    {
      "cell_type": "code",
      "metadata": {
        "id": "JBrl_frvRwVd",
        "colab_type": "code",
        "colab": {}
      },
      "source": [
        ""
      ],
      "execution_count": 0,
      "outputs": []
    }
  ]
}